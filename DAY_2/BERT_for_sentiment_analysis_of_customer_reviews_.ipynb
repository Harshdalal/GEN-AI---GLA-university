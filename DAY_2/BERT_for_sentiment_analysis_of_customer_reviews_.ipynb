{
  "nbformat": 4,
  "nbformat_minor": 0,
  "metadata": {
    "colab": {
      "provenance": []
    },
    "kernelspec": {
      "name": "python3",
      "display_name": "Python 3"
    },
    "language_info": {
      "name": "python"
    }
  },
  "cells": [
    {
      "cell_type": "markdown",
      "source": [
        "#BERT for sentiment analysis of customer reviews"
      ],
      "metadata": {
        "id": "v5Yzu35p0yrW"
      }
    },
    {
      "cell_type": "code",
      "execution_count": 1,
      "metadata": {
        "colab": {
          "base_uri": "https://localhost:8080/"
        },
        "id": "meBbvwetySUu",
        "outputId": "3a92fdce-727e-43c9-fbc9-33cbdfd3811d"
      },
      "outputs": [
        {
          "output_type": "stream",
          "name": "stdout",
          "text": [
            "Writing requirements.txt\n"
          ]
        }
      ],
      "source": [
        "%%writefile requirements.txt\n",
        "\n",
        "transformers\n",
        "torch\n",
        "pandas\n",
        "scikit-learn\n",
        "streamlit\n"
      ]
    },
    {
      "cell_type": "code",
      "source": [
        "%%writefile sample_reviews.csv\n",
        "\n",
        "text,label\n",
        "\"This movie was fantastic!\",positive\n",
        "\"I hated the acting and the plot.\",negative\n",
        "\"One of the best experiences I've had.\",positive\n",
        "\"The film was boring and too long.\",negative\n"
      ],
      "metadata": {
        "colab": {
          "base_uri": "https://localhost:8080/"
        },
        "id": "s6wwuDUwy83U",
        "outputId": "051a1122-75c8-4650-a13a-b05ea1e25bad"
      },
      "execution_count": 2,
      "outputs": [
        {
          "output_type": "stream",
          "name": "stdout",
          "text": [
            "Writing sample_reviews.csv\n"
          ]
        }
      ]
    },
    {
      "cell_type": "code",
      "source": [
        "%%writefile predict.py\n",
        "\n",
        "# model/predict.py\n",
        "import torch\n",
        "from transformers import BertTokenizer, BertForSequenceClassification\n",
        "import os\n",
        "\n",
        "MODEL_NAME = 'nlptown/bert-base-multilingual-uncased-sentiment'\n",
        "\n",
        "# Load model and tokenizer once\n",
        "tokenizer = BertTokenizer.from_pretrained(MODEL_NAME)\n",
        "model = BertForSequenceClassification.from_pretrained(MODEL_NAME)\n",
        "\n",
        "def predict_sentiment(text):\n",
        "    inputs = tokenizer(text, return_tensors=\"pt\", truncation=True, padding=True, max_length=512)\n",
        "    with torch.no_grad():\n",
        "        outputs = model(**inputs)\n",
        "    probs = torch.nn.functional.softmax(outputs.logits, dim=-1)\n",
        "    confidence, prediction = torch.max(probs, dim=1)\n",
        "    sentiment = int(prediction.item()) + 1  # 1 to 5 star\n",
        "    return sentiment, confidence.item()\n"
      ],
      "metadata": {
        "colab": {
          "base_uri": "https://localhost:8080/"
        },
        "id": "kwWPtGd-zUGT",
        "outputId": "32cfd6f1-dd43-4494-fa9c-36fb5613cf9a"
      },
      "execution_count": 3,
      "outputs": [
        {
          "output_type": "stream",
          "name": "stdout",
          "text": [
            "Writing predict.py\n"
          ]
        }
      ]
    },
    {
      "cell_type": "code",
      "source": [
        "%%writefile app.py\n",
        "\n",
        "import streamlit as st\n",
        "from model.predict import predict_sentiment\n",
        "\n",
        "st.set_page_config(page_title=\"BERT Sentiment Classifier\", layout=\"centered\")\n",
        "st.title(\"🧠 BERT Sentiment Analysis\")\n",
        "st.write(\"Enter a customer review below to analyze its sentiment.\")\n",
        "\n",
        "user_input = st.text_area(\"✍️ Review Text\", height=200)\n",
        "\n",
        "if st.button(\"Analyze Sentiment\"):\n",
        "    with st.spinner(\"Analyzing using BERT...\"):\n",
        "        rating, confidence = predict_sentiment(user_input)\n",
        "        st.success(f\"🌟 Predicted Rating: {rating} stars\")\n",
        "        st.info(f\"Confidence: {confidence:.2f}\")\n"
      ],
      "metadata": {
        "colab": {
          "base_uri": "https://localhost:8080/"
        },
        "id": "jdKKFc8izciM",
        "outputId": "b5ec1dd9-19c0-4729-b352-d1fb41be11d9"
      },
      "execution_count": 4,
      "outputs": [
        {
          "output_type": "stream",
          "name": "stdout",
          "text": [
            "Writing app.py\n"
          ]
        }
      ]
    },
    {
      "cell_type": "code",
      "source": [],
      "metadata": {
        "id": "_ziE2bXKzhrO"
      },
      "execution_count": null,
      "outputs": []
    }
  ]
}
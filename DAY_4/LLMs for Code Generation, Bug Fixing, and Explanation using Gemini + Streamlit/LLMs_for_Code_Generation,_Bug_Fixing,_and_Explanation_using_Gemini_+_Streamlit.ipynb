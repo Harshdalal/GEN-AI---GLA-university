{
  "nbformat": 4,
  "nbformat_minor": 0,
  "metadata": {
    "colab": {
      "provenance": []
    },
    "kernelspec": {
      "name": "python3",
      "display_name": "Python 3"
    },
    "language_info": {
      "name": "python"
    }
  },
  "cells": [
    {
      "cell_type": "markdown",
      "source": [
        "#Prompting LLMs for Code Generation, Bug Fixing, and Explanation using Gemini 1.5 Flash + Streamlit\n",
        "\n",
        "🔧 Requirements\n",
        "\n",
        "Install required libraries:"
      ],
      "metadata": {
        "id": "_JbnR0yI3vGd"
      }
    },
    {
      "cell_type": "code",
      "execution_count": null,
      "metadata": {
        "id": "kXgdjhG_3s7W"
      },
      "outputs": [],
      "source": [
        "pip install google-generativeai streamlit"
      ]
    },
    {
      "cell_type": "markdown",
      "source": [
        "#📁 Folder Structure\n",
        "\n",
        "llm_code_assistant/\n",
        "\n",
        "├── app.py                <- Streamlit frontend\n",
        "\n",
        "└── gemini_utils.py       <- Gemini API functions\n"
      ],
      "metadata": {
        "id": "MIPmU-iN31vl"
      }
    },
    {
      "cell_type": "markdown",
      "source": [
        "#📄 Step 1: Create gemini_utils.py"
      ],
      "metadata": {
        "id": "rE5UvYMM36zF"
      }
    },
    {
      "cell_type": "code",
      "source": [
        "%%writefile gemini_utils.py\n",
        "\n",
        "# gemini_utils.py\n",
        "\n",
        "import google.generativeai as genai\n",
        "import os\n",
        "\n",
        "# Initialize Gemini\n",
        "def initialize_gemini(api_key, model=\"models/gemini-1.5-flash-latest\"):\n",
        "    genai.configure(api_key=api_key)\n",
        "    return genai.GenerativeModel(model)\n",
        "\n",
        "# Run prompt\n",
        "def get_response(prompt, api_key, mode=\"code-generation\"):\n",
        "    model = initialize_gemini(api_key)\n",
        "\n",
        "    task_prefix = {\n",
        "        \"code-generation\": \"Generate code for this task:\\n\",\n",
        "        \"bug-fixing\": \"Find and fix bugs in the following code:\\n\",\n",
        "        \"code-explanation\": \"Explain the following code in simple terms:\\n\"\n",
        "    }\n",
        "\n",
        "    full_prompt = task_prefix.get(mode, \"\") + prompt\n",
        "    response = model.generate_content(full_prompt)\n",
        "    return response.text\n"
      ],
      "metadata": {
        "colab": {
          "base_uri": "https://localhost:8080/"
        },
        "id": "6orHkqMk35b7",
        "outputId": "8f522ad5-aebe-47d6-cfa5-0ac0b52c4999"
      },
      "execution_count": 1,
      "outputs": [
        {
          "output_type": "stream",
          "name": "stdout",
          "text": [
            "Writing gemini_utils.py\n"
          ]
        }
      ]
    },
    {
      "cell_type": "markdown",
      "source": [
        "#📄 Step 2: Create app.py"
      ],
      "metadata": {
        "id": "qd8hrUVL4CoB"
      }
    },
    {
      "cell_type": "code",
      "source": [
        "%%writefile app.py\n",
        "\n",
        "import streamlit as st\n",
        "from gemini_utils import get_response\n",
        "\n",
        "st.set_page_config(page_title=\"LLM Code Assistant\", layout=\"wide\")\n",
        "st.title(\"💻 LLM-Powered Code Assistant (Gemini 1.5 Flash)\")\n",
        "\n",
        "with st.sidebar:\n",
        "    st.header(\"⚙️ Configuration\")\n",
        "    api_key = st.text_input(\"🔑 Gemini API Key\", type=\"password\")\n",
        "    task_mode = st.selectbox(\n",
        "        \"🧠 Task Type\",\n",
        "        [\"code-generation\", \"bug-fixing\", \"code-explanation\"]\n",
        "    )\n",
        "\n",
        "if api_key:\n",
        "    st.subheader(\"📝 Enter your prompt or code\")\n",
        "    user_input = st.text_area(\"Write your instruction or code here\", height=300)\n",
        "\n",
        "    if st.button(\"🚀 Run\"):\n",
        "        with st.spinner(\"Running Gemini 1.5 Flash...\"):\n",
        "            result = get_response(user_input, api_key, mode=task_mode)\n",
        "            st.markdown(\"### 🧾 Response\")\n",
        "            st.code(result, language=\"python\" if task_mode != \"code-explanation\" else \"text\")\n",
        "else:\n",
        "    st.warning(\"Please enter your Gemini API Key to proceed.\")\n"
      ],
      "metadata": {
        "colab": {
          "base_uri": "https://localhost:8080/"
        },
        "id": "RpEZZF5G4DmI",
        "outputId": "c6941b08-8d60-446f-9368-d046629f01e0"
      },
      "execution_count": 2,
      "outputs": [
        {
          "output_type": "stream",
          "name": "stdout",
          "text": [
            "Writing app.py\n"
          ]
        }
      ]
    },
    {
      "cell_type": "code",
      "source": [],
      "metadata": {
        "id": "LzItZXcn4Jle"
      },
      "execution_count": null,
      "outputs": []
    }
  ]
}